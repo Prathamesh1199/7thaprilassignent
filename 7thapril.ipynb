{
 "cells": [
  {
   "cell_type": "code",
   "execution_count": null,
   "id": "58ced1e6-09ca-4c02-8733-d2b799a16c60",
   "metadata": {},
   "outputs": [],
   "source": [
    "1:\n",
    "  Polynomial functions and kernel functions are both used as basis functions in machine learning \n",
    "algorithms. In fact, polynomial functions can be used as a type of kernel function in certain algorithms\n",
    "such as support vector machines.\n",
    "Kernel functions are used to map the input data into a higher-dimensional feature space where the data may\n",
    "become more separable. Polynomial functions can be used as kernel functions by taking the dot product of two\n",
    "vectors in the feature space raised to a certain power, which is equivalent to computing the polynomial\n",
    "function of the original input data.\n",
    "In summary, while polynomial functions and kernel functions have different mathematical formulations, they both \n",
    "serve a similar purpose in machine learning algorithms - to transform the input data into a higher-dimensional\n",
    "feature space where it may be more easily separated or classified.  "
   ]
  },
  {
   "cell_type": "code",
   "execution_count": null,
   "id": "172a3ef7-cc66-471d-8b49-f6f2810ec225",
   "metadata": {},
   "outputs": [],
   "source": []
  },
  {
   "cell_type": "code",
   "execution_count": null,
   "id": "e60dbd5c-af58-48af-b074-5c38be360f6b",
   "metadata": {},
   "outputs": [],
   "source": [
    "2:\n",
    "   To implement an SVM with a polynomial kernel in Python using Scikit-learn "
   ]
  },
  {
   "cell_type": "code",
   "execution_count": 1,
   "id": "b462aa43-ae11-4faf-b25c-47b9fe141655",
   "metadata": {},
   "outputs": [
    {
     "name": "stdout",
     "output_type": "stream",
     "text": [
      "Accuracy: 0.9777777777777777\n"
     ]
    }
   ],
   "source": [
    "from sklearn import datasets\n",
    "from sklearn.model_selection import train_test_split\n",
    "from sklearn.svm import SVC\n",
    "from sklearn.metrics import accuracy_score\n",
    "iris = datasets.load_iris()\n",
    "X = iris.data\n",
    "y = iris.target\n",
    "X_train, X_test, y_train, y_test = train_test_split(X, y, test_size=0.3, random_state=42)\n",
    "svm = SVC(kernel='poly', degree=3)\n",
    "svm.fit(X_train, y_train)\n",
    "y_pred = svm.predict(X_test)\n",
    "accuracy = accuracy_score(y_test, y_pred)\n",
    "print('Accuracy:', accuracy)\n",
    "\n"
   ]
  },
  {
   "cell_type": "code",
   "execution_count": null,
   "id": "02d5098e-d4ce-490c-b276-7ab255878c3f",
   "metadata": {},
   "outputs": [],
   "source": []
  },
  {
   "cell_type": "code",
   "execution_count": null,
   "id": "1c361048-549a-4c0d-b9da-889978075934",
   "metadata": {},
   "outputs": [],
   "source": [
    "3:\n",
    "  In Support Vector Regression (SVR), epsilon is a hyperparameter that controls the width of \n",
    "the epsilon-insensitive zone around the predicted values. Increasing the value of epsilon allows\n",
    "more training points to be considered as support vectors, as it allows for a larger margin of error.\n",
    "\n",
    "As the value of epsilon is increased, the number of support vectors generally increases as well.\n",
    "This is because the larger epsilon value allows for more training points to fall within the \n",
    "epsilon-insensitive zone, which means that more training points will need to be considered as \n",
    "support vectors to define the regression function.\n",
    "\n",
    "However, it should be noted that the relationship between epsilon and the number of support \n",
    "vectors is not always linear and may depend on the specific dataset and other hyperparameters\n",
    "used in the SVR algorithm."
   ]
  },
  {
   "cell_type": "code",
   "execution_count": null,
   "id": "851e9895-9798-4658-9749-8b0f8fd98f99",
   "metadata": {},
   "outputs": [],
   "source": []
  },
  {
   "cell_type": "code",
   "execution_count": null,
   "id": "57c61792-91fe-4ba4-98db-b57eb90c3564",
   "metadata": {},
   "outputs": [],
   "source": [
    "4:\n",
    "  The choice of kernel function, C parameter, epsilon parameter, and gamma parameter can significantly\n",
    "affect the performance of Support Vector Regression (SVR).\n",
    "\n",
    "Kernel Function: The kernel function determines the type of decision boundary that the SVR will learn.\n",
    "Some common kernel functions include linear, polynomial, and radial basis function (RBF). The choice of \n",
    "kernel function depends on the complexity and non-linearity of the data. For example, if the data is highly\n",
    "non-linear, a non-linear kernel such as RBF might perform better than a linear kernel.\n",
    "\n",
    "C Parameter: The C parameter controls the trade-off between maximizing the margin and minimizing the error.\n",
    "A smaller value of C will result in a wider margin but more errors on the training set, while a larger value\n",
    "of C will result in a narrower margin but fewer errors on the training set. Increasing the value of C will \n",
    "make the model more complex and may lead to overfitting. Decreasing the value of C will make the model simpler\n",
    "and may lead to underfitting.\n",
    "\n",
    "Epsilon Parameter: The epsilon parameter controls the width of the margin around the regression line. It determines\n",
    "the threshold at which errors are considered acceptable. A larger value of epsilon will result in a wider margin \n",
    "and more errors being allowed, while a smaller value of epsilon will result in a narrower margin and fewer errors\n",
    "being allowed. Increasing the value of epsilon will make the model more tolerant to errors but may result in lower \n",
    "accuracy. Decreasing the value of epsilon will make the model less tolerant to errors but may result in higher accuracy.\n",
    "\n",
    "Gamma Parameter: The gamma parameter determines the shape of the decision boundary. It controls the influence of each\n",
    "training example on the decision boundary. A smaller value of gamma will result in a smoother decision boundary, while\n",
    "a larger value of gamma will result in a more complex decision boundary that tries to fit the training data more closely.\n",
    "Increasing the value of gamma will make the model more complex and may lead to overfitting. Decreasing the value of gamma\n",
    "will make the model simpler and may lead to underfitting.\n",
    "\n",
    "In summary, the performance of SVR is highly dependent on the choice of kernel function, C parameter, epsilon parameter,\n",
    "and gamma parameter. Choosing the right combination of these parameters can result in a highly accurate model, while choosing \n",
    "the wrong combination can result in poor performance or overfitting. Therefore, it is important to carefully tune these parameters\n",
    "based on the characteristics of the data and the desired performance of the model."
   ]
  },
  {
   "cell_type": "code",
   "execution_count": null,
   "id": "c31f3e19-232d-49d0-92ea-6fc193a60d86",
   "metadata": {},
   "outputs": [],
   "source": []
  },
  {
   "cell_type": "code",
   "execution_count": null,
   "id": "b031c327-f356-4c50-9799-9415772e4283",
   "metadata": {},
   "outputs": [],
   "source": [
    "5:\n",
    "  "
   ]
  },
  {
   "cell_type": "code",
   "execution_count": 14,
   "id": "d5539d2e-84dd-4200-ab42-158c1c304ec0",
   "metadata": {},
   "outputs": [],
   "source": [
    "import pandas as pd\n",
    "import numpy as np\n",
    "import matplotlib.pyplot as plt\n",
    "import seaborn as sns\n",
    "\n",
    "df = pd.read_csv(\"diabetes.csv\")\n"
   ]
  },
  {
   "cell_type": "code",
   "execution_count": 15,
   "id": "e651f372-f50a-46a7-a5cc-61a4fa8b70a0",
   "metadata": {},
   "outputs": [],
   "source": [
    "import pandas as pd\n",
    "from sklearn.model_selection import train_test_split\n",
    "\n",
    "# Load the dataset\n",
    "df = pd.read_csv(\"diabetes.csv\")\n",
    "\n",
    "# Split the dataset into features and labels\n",
    "X = df.iloc[:, :-1].values\n",
    "y = df.iloc[:, -1].values\n",
    "\n",
    "# Split the dataset into training and testing sets\n",
    "X_train, X_test, y_train, y_test = train_test_split(X, y, test_size=0.2, random_state=42)\n"
   ]
  },
  {
   "cell_type": "code",
   "execution_count": 16,
   "id": "7139cebd-5fbb-488c-a42b-0fc0a560f1e8",
   "metadata": {},
   "outputs": [],
   "source": [
    "import pandas as pd\n",
    "from sklearn.model_selection import train_test_split\n",
    "from sklearn.preprocessing import StandardScaler\n",
    "\n",
    "# Load the dataset\n",
    "df = pd.read_csv('diabetes.csv')\n",
    "\n",
    "# Split the dataset into features and labels\n",
    "X = df.iloc[:, :-1].values\n",
    "y = df.iloc[:, -1].values\n",
    "\n",
    "# Split the dataset into training and testing sets\n",
    "X_train, X_test, y_train, y_test = train_test_split(X, y, test_size=0.2, random_state=42)\n",
    "\n",
    "# Scale the features using the StandardScaler\n",
    "sc = StandardScaler()\n",
    "X_train = sc.fit_transform(X_train)\n",
    "X_test = sc.transform(X_test)\n"
   ]
  },
  {
   "cell_type": "code",
   "execution_count": 18,
   "id": "03b3914a-35cb-4d61-b985-7b384d829b3e",
   "metadata": {},
   "outputs": [
    {
     "data": {
      "text/html": [
       "<style>#sk-container-id-1 {color: black;background-color: white;}#sk-container-id-1 pre{padding: 0;}#sk-container-id-1 div.sk-toggleable {background-color: white;}#sk-container-id-1 label.sk-toggleable__label {cursor: pointer;display: block;width: 100%;margin-bottom: 0;padding: 0.3em;box-sizing: border-box;text-align: center;}#sk-container-id-1 label.sk-toggleable__label-arrow:before {content: \"▸\";float: left;margin-right: 0.25em;color: #696969;}#sk-container-id-1 label.sk-toggleable__label-arrow:hover:before {color: black;}#sk-container-id-1 div.sk-estimator:hover label.sk-toggleable__label-arrow:before {color: black;}#sk-container-id-1 div.sk-toggleable__content {max-height: 0;max-width: 0;overflow: hidden;text-align: left;background-color: #f0f8ff;}#sk-container-id-1 div.sk-toggleable__content pre {margin: 0.2em;color: black;border-radius: 0.25em;background-color: #f0f8ff;}#sk-container-id-1 input.sk-toggleable__control:checked~div.sk-toggleable__content {max-height: 200px;max-width: 100%;overflow: auto;}#sk-container-id-1 input.sk-toggleable__control:checked~label.sk-toggleable__label-arrow:before {content: \"▾\";}#sk-container-id-1 div.sk-estimator input.sk-toggleable__control:checked~label.sk-toggleable__label {background-color: #d4ebff;}#sk-container-id-1 div.sk-label input.sk-toggleable__control:checked~label.sk-toggleable__label {background-color: #d4ebff;}#sk-container-id-1 input.sk-hidden--visually {border: 0;clip: rect(1px 1px 1px 1px);clip: rect(1px, 1px, 1px, 1px);height: 1px;margin: -1px;overflow: hidden;padding: 0;position: absolute;width: 1px;}#sk-container-id-1 div.sk-estimator {font-family: monospace;background-color: #f0f8ff;border: 1px dotted black;border-radius: 0.25em;box-sizing: border-box;margin-bottom: 0.5em;}#sk-container-id-1 div.sk-estimator:hover {background-color: #d4ebff;}#sk-container-id-1 div.sk-parallel-item::after {content: \"\";width: 100%;border-bottom: 1px solid gray;flex-grow: 1;}#sk-container-id-1 div.sk-label:hover label.sk-toggleable__label {background-color: #d4ebff;}#sk-container-id-1 div.sk-serial::before {content: \"\";position: absolute;border-left: 1px solid gray;box-sizing: border-box;top: 0;bottom: 0;left: 50%;z-index: 0;}#sk-container-id-1 div.sk-serial {display: flex;flex-direction: column;align-items: center;background-color: white;padding-right: 0.2em;padding-left: 0.2em;position: relative;}#sk-container-id-1 div.sk-item {position: relative;z-index: 1;}#sk-container-id-1 div.sk-parallel {display: flex;align-items: stretch;justify-content: center;background-color: white;position: relative;}#sk-container-id-1 div.sk-item::before, #sk-container-id-1 div.sk-parallel-item::before {content: \"\";position: absolute;border-left: 1px solid gray;box-sizing: border-box;top: 0;bottom: 0;left: 50%;z-index: -1;}#sk-container-id-1 div.sk-parallel-item {display: flex;flex-direction: column;z-index: 1;position: relative;background-color: white;}#sk-container-id-1 div.sk-parallel-item:first-child::after {align-self: flex-end;width: 50%;}#sk-container-id-1 div.sk-parallel-item:last-child::after {align-self: flex-start;width: 50%;}#sk-container-id-1 div.sk-parallel-item:only-child::after {width: 0;}#sk-container-id-1 div.sk-dashed-wrapped {border: 1px dashed gray;margin: 0 0.4em 0.5em 0.4em;box-sizing: border-box;padding-bottom: 0.4em;background-color: white;}#sk-container-id-1 div.sk-label label {font-family: monospace;font-weight: bold;display: inline-block;line-height: 1.2em;}#sk-container-id-1 div.sk-label-container {text-align: center;}#sk-container-id-1 div.sk-container {/* jupyter's `normalize.less` sets `[hidden] { display: none; }` but bootstrap.min.css set `[hidden] { display: none !important; }` so we also need the `!important` here to be able to override the default hidden behavior on the sphinx rendered scikit-learn.org. See: https://github.com/scikit-learn/scikit-learn/issues/21755 */display: inline-block !important;position: relative;}#sk-container-id-1 div.sk-text-repr-fallback {display: none;}</style><div id=\"sk-container-id-1\" class=\"sk-top-container\"><div class=\"sk-text-repr-fallback\"><pre>SVC(kernel=&#x27;linear&#x27;)</pre><b>In a Jupyter environment, please rerun this cell to show the HTML representation or trust the notebook. <br />On GitHub, the HTML representation is unable to render, please try loading this page with nbviewer.org.</b></div><div class=\"sk-container\" hidden><div class=\"sk-item\"><div class=\"sk-estimator sk-toggleable\"><input class=\"sk-toggleable__control sk-hidden--visually\" id=\"sk-estimator-id-1\" type=\"checkbox\" checked><label for=\"sk-estimator-id-1\" class=\"sk-toggleable__label sk-toggleable__label-arrow\">SVC</label><div class=\"sk-toggleable__content\"><pre>SVC(kernel=&#x27;linear&#x27;)</pre></div></div></div></div></div>"
      ],
      "text/plain": [
       "SVC(kernel='linear')"
      ]
     },
     "execution_count": 18,
     "metadata": {},
     "output_type": "execute_result"
    }
   ],
   "source": [
    "from sklearn.svm import SVC\n",
    "\n",
    "# Create an instance of the SVC classifier\n",
    "svm_clf = SVC(kernel='linear')\n",
    "\n",
    "# Train the classifier on the training data\n",
    "svm_clf.fit(X_train, y_train)\n"
   ]
  },
  {
   "cell_type": "code",
   "execution_count": 20,
   "id": "85a3b3af-41f0-4dc7-bf33-e24bdff3015b",
   "metadata": {},
   "outputs": [],
   "source": [
    "y_pred = svm_clf.predict(X_test)"
   ]
  },
  {
   "cell_type": "code",
   "execution_count": 23,
   "id": "63c57dcc-af08-403c-997b-f9dd9fb2b18d",
   "metadata": {},
   "outputs": [
    {
     "name": "stdout",
     "output_type": "stream",
     "text": [
      "Precision: 0.6666666666666666\n",
      "Recall: 0.6545454545454545\n",
      "Accuracy: 0.7597402597402597\n"
     ]
    }
   ],
   "source": [
    "from sklearn.metrics import precision_score, recall_score , accuracy_score\n",
    "\n",
    "# Calculate the precision of the classifier on the testing data\n",
    "precision = precision_score(y_test, y_pred)\n",
    "\n",
    "# Calculate the recall of the classifier on the testing data\n",
    "recall = recall_score(y_test, y_pred)\n",
    "\n",
    "# Calculate the accuracy of the classifier on the testing data\n",
    "accuracy = accuracy_score(y_test, y_pred)\n",
    "\n",
    "print(\"Precision:\", precision)\n",
    "print(\"Recall:\", recall)\n",
    "print(\"Accuracy:\", accuracy)"
   ]
  },
  {
   "cell_type": "code",
   "execution_count": 24,
   "id": "440c1079-4d5d-49ba-8ba2-e4e2e7ec3aa4",
   "metadata": {},
   "outputs": [
    {
     "name": "stdout",
     "output_type": "stream",
     "text": [
      "Best hyperparameters: {'C': 1, 'gamma': 'scale', 'kernel': 'rbf'}\n",
      "Best accuracy: 0.7687458349993335\n"
     ]
    }
   ],
   "source": [
    "from sklearn.model_selection import GridSearchCV\n",
    "\n",
    "# Define the hyperparameters to search over\n",
    "param_grid = {\n",
    "    'C': [0.1, 1, 10],\n",
    "    'kernel': ['linear', 'rbf', 'poly'],\n",
    "    'gamma': ['scale', 'auto']\n",
    "}\n",
    "\n",
    "# Create an instance of the SVC classifier\n",
    "svm_clf = SVC()\n",
    "\n",
    "# Create an instance of GridSearchCV to search over the hyperparameters\n",
    "grid_search = GridSearchCV(svm_clf, param_grid, cv=5)\n",
    "\n",
    "# Train the classifier using GridSearchCV\n",
    "grid_search.fit(X_train, y_train)\n",
    "\n",
    "# Print the best hyperparameters and the corresponding accuracy\n",
    "print(\"Best hyperparameters:\", grid_search.best_params_)\n",
    "print(\"Best accuracy:\", grid_search.best_score_)\n"
   ]
  },
  {
   "cell_type": "code",
   "execution_count": 25,
   "id": "0d2613bd-d539-42cd-8453-44faa5d123b3",
   "metadata": {},
   "outputs": [
    {
     "data": {
      "text/html": [
       "<style>#sk-container-id-2 {color: black;background-color: white;}#sk-container-id-2 pre{padding: 0;}#sk-container-id-2 div.sk-toggleable {background-color: white;}#sk-container-id-2 label.sk-toggleable__label {cursor: pointer;display: block;width: 100%;margin-bottom: 0;padding: 0.3em;box-sizing: border-box;text-align: center;}#sk-container-id-2 label.sk-toggleable__label-arrow:before {content: \"▸\";float: left;margin-right: 0.25em;color: #696969;}#sk-container-id-2 label.sk-toggleable__label-arrow:hover:before {color: black;}#sk-container-id-2 div.sk-estimator:hover label.sk-toggleable__label-arrow:before {color: black;}#sk-container-id-2 div.sk-toggleable__content {max-height: 0;max-width: 0;overflow: hidden;text-align: left;background-color: #f0f8ff;}#sk-container-id-2 div.sk-toggleable__content pre {margin: 0.2em;color: black;border-radius: 0.25em;background-color: #f0f8ff;}#sk-container-id-2 input.sk-toggleable__control:checked~div.sk-toggleable__content {max-height: 200px;max-width: 100%;overflow: auto;}#sk-container-id-2 input.sk-toggleable__control:checked~label.sk-toggleable__label-arrow:before {content: \"▾\";}#sk-container-id-2 div.sk-estimator input.sk-toggleable__control:checked~label.sk-toggleable__label {background-color: #d4ebff;}#sk-container-id-2 div.sk-label input.sk-toggleable__control:checked~label.sk-toggleable__label {background-color: #d4ebff;}#sk-container-id-2 input.sk-hidden--visually {border: 0;clip: rect(1px 1px 1px 1px);clip: rect(1px, 1px, 1px, 1px);height: 1px;margin: -1px;overflow: hidden;padding: 0;position: absolute;width: 1px;}#sk-container-id-2 div.sk-estimator {font-family: monospace;background-color: #f0f8ff;border: 1px dotted black;border-radius: 0.25em;box-sizing: border-box;margin-bottom: 0.5em;}#sk-container-id-2 div.sk-estimator:hover {background-color: #d4ebff;}#sk-container-id-2 div.sk-parallel-item::after {content: \"\";width: 100%;border-bottom: 1px solid gray;flex-grow: 1;}#sk-container-id-2 div.sk-label:hover label.sk-toggleable__label {background-color: #d4ebff;}#sk-container-id-2 div.sk-serial::before {content: \"\";position: absolute;border-left: 1px solid gray;box-sizing: border-box;top: 0;bottom: 0;left: 50%;z-index: 0;}#sk-container-id-2 div.sk-serial {display: flex;flex-direction: column;align-items: center;background-color: white;padding-right: 0.2em;padding-left: 0.2em;position: relative;}#sk-container-id-2 div.sk-item {position: relative;z-index: 1;}#sk-container-id-2 div.sk-parallel {display: flex;align-items: stretch;justify-content: center;background-color: white;position: relative;}#sk-container-id-2 div.sk-item::before, #sk-container-id-2 div.sk-parallel-item::before {content: \"\";position: absolute;border-left: 1px solid gray;box-sizing: border-box;top: 0;bottom: 0;left: 50%;z-index: -1;}#sk-container-id-2 div.sk-parallel-item {display: flex;flex-direction: column;z-index: 1;position: relative;background-color: white;}#sk-container-id-2 div.sk-parallel-item:first-child::after {align-self: flex-end;width: 50%;}#sk-container-id-2 div.sk-parallel-item:last-child::after {align-self: flex-start;width: 50%;}#sk-container-id-2 div.sk-parallel-item:only-child::after {width: 0;}#sk-container-id-2 div.sk-dashed-wrapped {border: 1px dashed gray;margin: 0 0.4em 0.5em 0.4em;box-sizing: border-box;padding-bottom: 0.4em;background-color: white;}#sk-container-id-2 div.sk-label label {font-family: monospace;font-weight: bold;display: inline-block;line-height: 1.2em;}#sk-container-id-2 div.sk-label-container {text-align: center;}#sk-container-id-2 div.sk-container {/* jupyter's `normalize.less` sets `[hidden] { display: none; }` but bootstrap.min.css set `[hidden] { display: none !important; }` so we also need the `!important` here to be able to override the default hidden behavior on the sphinx rendered scikit-learn.org. See: https://github.com/scikit-learn/scikit-learn/issues/21755 */display: inline-block !important;position: relative;}#sk-container-id-2 div.sk-text-repr-fallback {display: none;}</style><div id=\"sk-container-id-2\" class=\"sk-top-container\"><div class=\"sk-text-repr-fallback\"><pre>SVC(C=1)</pre><b>In a Jupyter environment, please rerun this cell to show the HTML representation or trust the notebook. <br />On GitHub, the HTML representation is unable to render, please try loading this page with nbviewer.org.</b></div><div class=\"sk-container\" hidden><div class=\"sk-item\"><div class=\"sk-estimator sk-toggleable\"><input class=\"sk-toggleable__control sk-hidden--visually\" id=\"sk-estimator-id-2\" type=\"checkbox\" checked><label for=\"sk-estimator-id-2\" class=\"sk-toggleable__label sk-toggleable__label-arrow\">SVC</label><div class=\"sk-toggleable__content\"><pre>SVC(C=1)</pre></div></div></div></div></div>"
      ],
      "text/plain": [
       "SVC(C=1)"
      ]
     },
     "execution_count": 25,
     "metadata": {},
     "output_type": "execute_result"
    }
   ],
   "source": [
    "from sklearn.svm import SVC\n",
    "\n",
    "# Create an instance of the SVC classifier with the tuned hyperparameters\n",
    "svm_clf = SVC(C=1, kernel='rbf', gamma='scale')\n",
    "\n",
    "# Train the classifier on the entire dataset\n",
    "svm_clf.fit(X, y)\n"
   ]
  },
  {
   "cell_type": "code",
   "execution_count": null,
   "id": "b30d50de-44b9-49ad-9cb9-1eb9531eb617",
   "metadata": {},
   "outputs": [],
   "source": [
    "import pickle\n",
    "\n",
    "# Save the trained classifier to a file\n",
    "with open('diabetes_svm.pkl', 'wb') as f:\n",
    "    pickle.dump(svm_clf, f)\n"
   ]
  },
  {
   "cell_type": "code",
   "execution_count": null,
   "id": "a1157595-d6c7-437b-b30c-b27197301249",
   "metadata": {},
   "outputs": [],
   "source": []
  },
  {
   "cell_type": "code",
   "execution_count": null,
   "id": "41b093aa-1835-4f6f-8a45-531544ef2fd1",
   "metadata": {},
   "outputs": [],
   "source": []
  },
  {
   "cell_type": "code",
   "execution_count": null,
   "id": "0cfc8cd0-9cc9-47eb-bfd1-2db2646b6122",
   "metadata": {},
   "outputs": [],
   "source": []
  }
 ],
 "metadata": {
  "kernelspec": {
   "display_name": "Python 3 (ipykernel)",
   "language": "python",
   "name": "python3"
  },
  "language_info": {
   "codemirror_mode": {
    "name": "ipython",
    "version": 3
   },
   "file_extension": ".py",
   "mimetype": "text/x-python",
   "name": "python",
   "nbconvert_exporter": "python",
   "pygments_lexer": "ipython3",
   "version": "3.10.8"
  }
 },
 "nbformat": 4,
 "nbformat_minor": 5
}
